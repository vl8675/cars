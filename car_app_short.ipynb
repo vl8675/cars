{
  "nbformat": 4,
  "nbformat_minor": 0,
  "metadata": {
    "colab": {
      "name": "car-app-short.ipynb",
      "provenance": [],
      "collapsed_sections": []
    },
    "kernelspec": {
      "name": "python3",
      "display_name": "Python 3"
    },
    "language_info": {
      "name": "python"
    },
    "widgets": {
      "application/vnd.jupyter.widget-state+json": {
        "39878b359fd943db9534af0078a4f380": {
          "model_module": "@jupyter-widgets/controls",
          "model_name": "VBoxModel",
          "model_module_version": "1.5.0",
          "state": {
            "_view_name": "VBoxView",
            "_dom_classes": [],
            "_model_name": "VBoxModel",
            "_view_module": "@jupyter-widgets/controls",
            "_model_module_version": "1.5.0",
            "_view_count": null,
            "_view_module_version": "1.5.0",
            "box_style": "",
            "layout": "IPY_MODEL_dbde033421b44c099facc2a81d673bb8",
            "_model_module": "@jupyter-widgets/controls",
            "children": [
              "IPY_MODEL_e7e2c15499394aa1af1cbafb162c521d",
              "IPY_MODEL_272fea63ef8d418eba568a0451e4164b",
              "IPY_MODEL_f218f09170854fb1a04c52961cf14b5f",
              "IPY_MODEL_6ef1fa96361445b8b957c35f2a4c82b8"
            ]
          }
        },
        "dbde033421b44c099facc2a81d673bb8": {
          "model_module": "@jupyter-widgets/base",
          "model_name": "LayoutModel",
          "model_module_version": "1.2.0",
          "state": {
            "_view_name": "LayoutView",
            "grid_template_rows": null,
            "right": null,
            "justify_content": null,
            "_view_module": "@jupyter-widgets/base",
            "overflow": null,
            "_model_module_version": "1.2.0",
            "_view_count": null,
            "flex_flow": null,
            "width": null,
            "min_width": null,
            "border": null,
            "align_items": null,
            "bottom": null,
            "_model_module": "@jupyter-widgets/base",
            "top": null,
            "grid_column": null,
            "overflow_y": null,
            "overflow_x": null,
            "grid_auto_flow": null,
            "grid_area": null,
            "grid_template_columns": null,
            "flex": null,
            "_model_name": "LayoutModel",
            "justify_items": null,
            "grid_row": null,
            "max_height": null,
            "align_content": null,
            "visibility": null,
            "align_self": null,
            "height": null,
            "min_height": null,
            "padding": null,
            "grid_auto_rows": null,
            "grid_gap": null,
            "max_width": null,
            "order": null,
            "_view_module_version": "1.2.0",
            "grid_template_areas": null,
            "object_position": null,
            "object_fit": null,
            "grid_auto_columns": null,
            "margin": null,
            "display": null,
            "left": null
          }
        },
        "e7e2c15499394aa1af1cbafb162c521d": {
          "model_module": "@jupyter-widgets/controls",
          "model_name": "LabelModel",
          "model_module_version": "1.5.0",
          "state": {
            "_view_name": "LabelView",
            "style": "IPY_MODEL_98312c960e464d9aa95504d919ad4644",
            "_dom_classes": [],
            "description": "",
            "_model_name": "LabelModel",
            "placeholder": "​",
            "_view_module": "@jupyter-widgets/controls",
            "_model_module_version": "1.5.0",
            "value": "Select your car!",
            "_view_count": null,
            "_view_module_version": "1.5.0",
            "description_tooltip": null,
            "_model_module": "@jupyter-widgets/controls",
            "layout": "IPY_MODEL_533b9add6ed8433c9cfb04a74d908604"
          }
        },
        "272fea63ef8d418eba568a0451e4164b": {
          "model_module": "@jupyter-widgets/controls",
          "model_name": "FileUploadModel",
          "model_module_version": "1.5.0",
          "state": {
            "_view_name": "FileUploadView",
            "_counter": 27,
            "style": "IPY_MODEL_3d301c64992b4bcebd4c103fab687b6b",
            "_dom_classes": [],
            "description": "Upload",
            "multiple": false,
            "_model_name": "FileUploadModel",
            "data": [
              null
            ],
            "button_style": "",
            "_view_module": "@jupyter-widgets/controls",
            "_model_module_version": "1.5.0",
            "accept": "",
            "_view_count": null,
            "disabled": false,
            "_view_module_version": "1.5.0",
            "error": "",
            "description_tooltip": null,
            "metadata": [
              {
                "name": "enzo.PNG",
                "type": "image/png",
                "size": 262243,
                "lastModified": 1629601764042
              }
            ],
            "_model_module": "@jupyter-widgets/controls",
            "layout": "IPY_MODEL_52169c19ed994b059562042e0bf2a13d",
            "icon": "upload"
          }
        },
        "f218f09170854fb1a04c52961cf14b5f": {
          "model_module": "@jupyter-widgets/output",
          "model_name": "OutputModel",
          "model_module_version": "1.0.0",
          "state": {
            "_view_name": "OutputView",
            "msg_id": "",
            "_dom_classes": [],
            "_model_name": "OutputModel",
            "outputs": [
              {
                "output_type": "display_data",
                "data": {
                  "image/png": "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\n",
                  "text/plain": [
                    "<PIL.Image.Image image mode=RGB size=128x81 at 0x7F48E83F5F50>"
                  ]
                },
                "metadata": {}
              }
            ],
            "_view_module": "@jupyter-widgets/output",
            "_model_module_version": "1.0.0",
            "_view_count": null,
            "_view_module_version": "1.0.0",
            "layout": "IPY_MODEL_0a26d0a9b411419dac8da40abe50d0da",
            "_model_module": "@jupyter-widgets/output"
          }
        },
        "6ef1fa96361445b8b957c35f2a4c82b8": {
          "model_module": "@jupyter-widgets/controls",
          "model_name": "LabelModel",
          "model_module_version": "1.5.0",
          "state": {
            "_view_name": "LabelView",
            "style": "IPY_MODEL_082bb3ad5e8943d7b2d64f04b839b608",
            "_dom_classes": [],
            "description": "",
            "_model_name": "LabelModel",
            "placeholder": "​",
            "_view_module": "@jupyter-widgets/controls",
            "_model_module_version": "1.5.0",
            "value": "Prediction: ferrari; Probability: 1.0000",
            "_view_count": null,
            "_view_module_version": "1.5.0",
            "description_tooltip": null,
            "_model_module": "@jupyter-widgets/controls",
            "layout": "IPY_MODEL_cd821b5891ef48e49b2d3dc8ab2a1c8c"
          }
        },
        "98312c960e464d9aa95504d919ad4644": {
          "model_module": "@jupyter-widgets/controls",
          "model_name": "DescriptionStyleModel",
          "model_module_version": "1.5.0",
          "state": {
            "_view_name": "StyleView",
            "_model_name": "DescriptionStyleModel",
            "description_width": "",
            "_view_module": "@jupyter-widgets/base",
            "_model_module_version": "1.5.0",
            "_view_count": null,
            "_view_module_version": "1.2.0",
            "_model_module": "@jupyter-widgets/controls"
          }
        },
        "533b9add6ed8433c9cfb04a74d908604": {
          "model_module": "@jupyter-widgets/base",
          "model_name": "LayoutModel",
          "model_module_version": "1.2.0",
          "state": {
            "_view_name": "LayoutView",
            "grid_template_rows": null,
            "right": null,
            "justify_content": null,
            "_view_module": "@jupyter-widgets/base",
            "overflow": null,
            "_model_module_version": "1.2.0",
            "_view_count": null,
            "flex_flow": null,
            "width": null,
            "min_width": null,
            "border": null,
            "align_items": null,
            "bottom": null,
            "_model_module": "@jupyter-widgets/base",
            "top": null,
            "grid_column": null,
            "overflow_y": null,
            "overflow_x": null,
            "grid_auto_flow": null,
            "grid_area": null,
            "grid_template_columns": null,
            "flex": null,
            "_model_name": "LayoutModel",
            "justify_items": null,
            "grid_row": null,
            "max_height": null,
            "align_content": null,
            "visibility": null,
            "align_self": null,
            "height": null,
            "min_height": null,
            "padding": null,
            "grid_auto_rows": null,
            "grid_gap": null,
            "max_width": null,
            "order": null,
            "_view_module_version": "1.2.0",
            "grid_template_areas": null,
            "object_position": null,
            "object_fit": null,
            "grid_auto_columns": null,
            "margin": null,
            "display": null,
            "left": null
          }
        },
        "3d301c64992b4bcebd4c103fab687b6b": {
          "model_module": "@jupyter-widgets/controls",
          "model_name": "ButtonStyleModel",
          "model_module_version": "1.5.0",
          "state": {
            "_view_name": "StyleView",
            "_model_name": "ButtonStyleModel",
            "_view_module": "@jupyter-widgets/base",
            "_model_module_version": "1.5.0",
            "_view_count": null,
            "button_color": null,
            "font_weight": "",
            "_view_module_version": "1.2.0",
            "_model_module": "@jupyter-widgets/controls"
          }
        },
        "52169c19ed994b059562042e0bf2a13d": {
          "model_module": "@jupyter-widgets/base",
          "model_name": "LayoutModel",
          "model_module_version": "1.2.0",
          "state": {
            "_view_name": "LayoutView",
            "grid_template_rows": null,
            "right": null,
            "justify_content": null,
            "_view_module": "@jupyter-widgets/base",
            "overflow": null,
            "_model_module_version": "1.2.0",
            "_view_count": null,
            "flex_flow": null,
            "width": null,
            "min_width": null,
            "border": null,
            "align_items": null,
            "bottom": null,
            "_model_module": "@jupyter-widgets/base",
            "top": null,
            "grid_column": null,
            "overflow_y": null,
            "overflow_x": null,
            "grid_auto_flow": null,
            "grid_area": null,
            "grid_template_columns": null,
            "flex": null,
            "_model_name": "LayoutModel",
            "justify_items": null,
            "grid_row": null,
            "max_height": null,
            "align_content": null,
            "visibility": null,
            "align_self": null,
            "height": null,
            "min_height": null,
            "padding": null,
            "grid_auto_rows": null,
            "grid_gap": null,
            "max_width": null,
            "order": null,
            "_view_module_version": "1.2.0",
            "grid_template_areas": null,
            "object_position": null,
            "object_fit": null,
            "grid_auto_columns": null,
            "margin": null,
            "display": null,
            "left": null
          }
        },
        "082bb3ad5e8943d7b2d64f04b839b608": {
          "model_module": "@jupyter-widgets/controls",
          "model_name": "DescriptionStyleModel",
          "model_module_version": "1.5.0",
          "state": {
            "_view_name": "StyleView",
            "_model_name": "DescriptionStyleModel",
            "description_width": "",
            "_view_module": "@jupyter-widgets/base",
            "_model_module_version": "1.5.0",
            "_view_count": null,
            "_view_module_version": "1.2.0",
            "_model_module": "@jupyter-widgets/controls"
          }
        },
        "cd821b5891ef48e49b2d3dc8ab2a1c8c": {
          "model_module": "@jupyter-widgets/base",
          "model_name": "LayoutModel",
          "model_module_version": "1.2.0",
          "state": {
            "_view_name": "LayoutView",
            "grid_template_rows": null,
            "right": null,
            "justify_content": null,
            "_view_module": "@jupyter-widgets/base",
            "overflow": null,
            "_model_module_version": "1.2.0",
            "_view_count": null,
            "flex_flow": null,
            "width": null,
            "min_width": null,
            "border": null,
            "align_items": null,
            "bottom": null,
            "_model_module": "@jupyter-widgets/base",
            "top": null,
            "grid_column": null,
            "overflow_y": null,
            "overflow_x": null,
            "grid_auto_flow": null,
            "grid_area": null,
            "grid_template_columns": null,
            "flex": null,
            "_model_name": "LayoutModel",
            "justify_items": null,
            "grid_row": null,
            "max_height": null,
            "align_content": null,
            "visibility": null,
            "align_self": null,
            "height": null,
            "min_height": null,
            "padding": null,
            "grid_auto_rows": null,
            "grid_gap": null,
            "max_width": null,
            "order": null,
            "_view_module_version": "1.2.0",
            "grid_template_areas": null,
            "object_position": null,
            "object_fit": null,
            "grid_auto_columns": null,
            "margin": null,
            "display": null,
            "left": null
          }
        },
        "0a26d0a9b411419dac8da40abe50d0da": {
          "model_module": "@jupyter-widgets/base",
          "model_name": "LayoutModel",
          "model_module_version": "1.2.0",
          "state": {
            "_view_name": "LayoutView",
            "grid_template_rows": null,
            "right": null,
            "justify_content": null,
            "_view_module": "@jupyter-widgets/base",
            "overflow": null,
            "_model_module_version": "1.2.0",
            "_view_count": null,
            "flex_flow": null,
            "width": null,
            "min_width": null,
            "border": null,
            "align_items": null,
            "bottom": null,
            "_model_module": "@jupyter-widgets/base",
            "top": null,
            "grid_column": null,
            "overflow_y": null,
            "overflow_x": null,
            "grid_auto_flow": null,
            "grid_area": null,
            "grid_template_columns": null,
            "flex": null,
            "_model_name": "LayoutModel",
            "justify_items": null,
            "grid_row": null,
            "max_height": null,
            "align_content": null,
            "visibility": null,
            "align_self": null,
            "height": null,
            "min_height": null,
            "padding": null,
            "grid_auto_rows": null,
            "grid_gap": null,
            "max_width": null,
            "order": null,
            "_view_module_version": "1.2.0",
            "grid_template_areas": null,
            "object_position": null,
            "object_fit": null,
            "grid_auto_columns": null,
            "margin": null,
            "display": null,
            "left": null
          }
        }
      }
    }
  },
  "cells": [
    {
      "cell_type": "code",
      "metadata": {
        "id": "-DkJ9eL_ZiBj"
      },
      "source": [
        "from fastai.vision.all import *\n",
        "from fastai.vision.widgets import *"
      ],
      "execution_count": null,
      "outputs": []
    },
    {
      "cell_type": "code",
      "metadata": {
        "id": "XV0SnSSqlRIY"
      },
      "source": [
        "path = Path()\n",
        "learn_inf = load_learner(path/'car-export.pkl', cpu=True)\n",
        "btn_upload = widgets.FileUpload()\n",
        "out_pl = widgets.Output()\n",
        "lbl_pred = widgets.Label()"
      ],
      "execution_count": null,
      "outputs": []
    },
    {
      "cell_type": "code",
      "metadata": {
        "id": "botBbRLvpYRp"
      },
      "source": [
        "def on_data_change(change):\n",
        "    lbl_pred.value = ''\n",
        "    img = PILImage.create(btn_upload.data[-1])\n",
        "    out_pl.clear_output()\n",
        "    with out_pl: display(img.to_thumb(128,128))\n",
        "    pred,pred_idx,probs = learn_inf.predict(img)\n",
        "    lbl_pred.value = f'Prediction: {pred}; Probability: {probs[pred_idx]:.04f}'"
      ],
      "execution_count": null,
      "outputs": []
    },
    {
      "cell_type": "code",
      "metadata": {
        "id": "cR9_Euu0piY1"
      },
      "source": [
        "btn_upload.observe(on_data_change, names=['data'])"
      ],
      "execution_count": null,
      "outputs": []
    },
    {
      "cell_type": "code",
      "metadata": {
        "colab": {
          "base_uri": "https://localhost:8080/",
          "height": 248,
          "referenced_widgets": [
            "39878b359fd943db9534af0078a4f380",
            "dbde033421b44c099facc2a81d673bb8",
            "e7e2c15499394aa1af1cbafb162c521d",
            "272fea63ef8d418eba568a0451e4164b",
            "f218f09170854fb1a04c52961cf14b5f",
            "6ef1fa96361445b8b957c35f2a4c82b8",
            "98312c960e464d9aa95504d919ad4644",
            "533b9add6ed8433c9cfb04a74d908604",
            "3d301c64992b4bcebd4c103fab687b6b",
            "52169c19ed994b059562042e0bf2a13d",
            "082bb3ad5e8943d7b2d64f04b839b608",
            "cd821b5891ef48e49b2d3dc8ab2a1c8c",
            "0a26d0a9b411419dac8da40abe50d0da"
          ]
        },
        "id": "-6OdBKxHpmdH",
        "outputId": "040ef80e-d28b-4387-b787-aa8c1f3725ad"
      },
      "source": [
        "display(VBox([widgets.Label('Select your car!'), btn_upload, out_pl, lbl_pred]))"
      ],
      "execution_count": null,
      "outputs": [
        {
          "output_type": "display_data",
          "data": {
            "application/vnd.jupyter.widget-view+json": {
              "model_id": "39878b359fd943db9534af0078a4f380",
              "version_minor": 0,
              "version_major": 2
            },
            "text/plain": [
              "VBox(children=(Label(value='Select your car!'), FileUpload(value={}, description='Upload'), Output(), Label(va…"
            ]
          },
          "metadata": {}
        },
        {
          "output_type": "display_data",
          "data": {
            "text/html": [
              ""
            ],
            "text/plain": [
              "<IPython.core.display.HTML object>"
            ]
          },
          "metadata": {}
        },
        {
          "output_type": "stream",
          "text": [
            "/usr/local/lib/python3.7/dist-packages/torch/nn/functional.py:718: UserWarning: Named tensors and all their associated APIs are an experimental feature and subject to change. Please do not use them for anything important until they are released as stable. (Triggered internally at  /pytorch/c10/core/TensorImpl.h:1156.)\n",
            "  return torch.max_pool2d(input, kernel_size, stride, padding, dilation, ceil_mode)\n"
          ],
          "name": "stderr"
        },
        {
          "output_type": "display_data",
          "data": {
            "text/html": [
              ""
            ],
            "text/plain": [
              "<IPython.core.display.HTML object>"
            ]
          },
          "metadata": {}
        },
        {
          "output_type": "display_data",
          "data": {
            "text/html": [
              ""
            ],
            "text/plain": [
              "<IPython.core.display.HTML object>"
            ]
          },
          "metadata": {}
        },
        {
          "output_type": "display_data",
          "data": {
            "text/html": [
              ""
            ],
            "text/plain": [
              "<IPython.core.display.HTML object>"
            ]
          },
          "metadata": {}
        },
        {
          "output_type": "display_data",
          "data": {
            "text/html": [
              ""
            ],
            "text/plain": [
              "<IPython.core.display.HTML object>"
            ]
          },
          "metadata": {}
        },
        {
          "output_type": "display_data",
          "data": {
            "text/html": [
              ""
            ],
            "text/plain": [
              "<IPython.core.display.HTML object>"
            ]
          },
          "metadata": {}
        },
        {
          "output_type": "display_data",
          "data": {
            "text/html": [
              ""
            ],
            "text/plain": [
              "<IPython.core.display.HTML object>"
            ]
          },
          "metadata": {}
        },
        {
          "output_type": "display_data",
          "data": {
            "text/html": [
              ""
            ],
            "text/plain": [
              "<IPython.core.display.HTML object>"
            ]
          },
          "metadata": {}
        },
        {
          "output_type": "display_data",
          "data": {
            "text/html": [
              ""
            ],
            "text/plain": [
              "<IPython.core.display.HTML object>"
            ]
          },
          "metadata": {}
        },
        {
          "output_type": "display_data",
          "data": {
            "text/html": [
              ""
            ],
            "text/plain": [
              "<IPython.core.display.HTML object>"
            ]
          },
          "metadata": {}
        },
        {
          "output_type": "display_data",
          "data": {
            "text/html": [
              ""
            ],
            "text/plain": [
              "<IPython.core.display.HTML object>"
            ]
          },
          "metadata": {}
        },
        {
          "output_type": "display_data",
          "data": {
            "text/html": [
              ""
            ],
            "text/plain": [
              "<IPython.core.display.HTML object>"
            ]
          },
          "metadata": {}
        },
        {
          "output_type": "display_data",
          "data": {
            "text/html": [
              ""
            ],
            "text/plain": [
              "<IPython.core.display.HTML object>"
            ]
          },
          "metadata": {}
        },
        {
          "output_type": "display_data",
          "data": {
            "text/html": [
              ""
            ],
            "text/plain": [
              "<IPython.core.display.HTML object>"
            ]
          },
          "metadata": {}
        },
        {
          "output_type": "display_data",
          "data": {
            "text/html": [
              ""
            ],
            "text/plain": [
              "<IPython.core.display.HTML object>"
            ]
          },
          "metadata": {}
        },
        {
          "output_type": "display_data",
          "data": {
            "text/html": [
              ""
            ],
            "text/plain": [
              "<IPython.core.display.HTML object>"
            ]
          },
          "metadata": {}
        },
        {
          "output_type": "display_data",
          "data": {
            "text/html": [
              ""
            ],
            "text/plain": [
              "<IPython.core.display.HTML object>"
            ]
          },
          "metadata": {}
        },
        {
          "output_type": "display_data",
          "data": {
            "text/html": [
              ""
            ],
            "text/plain": [
              "<IPython.core.display.HTML object>"
            ]
          },
          "metadata": {}
        },
        {
          "output_type": "display_data",
          "data": {
            "text/html": [
              ""
            ],
            "text/plain": [
              "<IPython.core.display.HTML object>"
            ]
          },
          "metadata": {}
        },
        {
          "output_type": "display_data",
          "data": {
            "text/html": [
              ""
            ],
            "text/plain": [
              "<IPython.core.display.HTML object>"
            ]
          },
          "metadata": {}
        },
        {
          "output_type": "display_data",
          "data": {
            "text/html": [
              ""
            ],
            "text/plain": [
              "<IPython.core.display.HTML object>"
            ]
          },
          "metadata": {}
        },
        {
          "output_type": "display_data",
          "data": {
            "text/html": [
              ""
            ],
            "text/plain": [
              "<IPython.core.display.HTML object>"
            ]
          },
          "metadata": {}
        },
        {
          "output_type": "display_data",
          "data": {
            "text/html": [
              ""
            ],
            "text/plain": [
              "<IPython.core.display.HTML object>"
            ]
          },
          "metadata": {}
        },
        {
          "output_type": "display_data",
          "data": {
            "text/html": [
              ""
            ],
            "text/plain": [
              "<IPython.core.display.HTML object>"
            ]
          },
          "metadata": {}
        },
        {
          "output_type": "display_data",
          "data": {
            "text/html": [
              ""
            ],
            "text/plain": [
              "<IPython.core.display.HTML object>"
            ]
          },
          "metadata": {}
        },
        {
          "output_type": "display_data",
          "data": {
            "text/html": [
              ""
            ],
            "text/plain": [
              "<IPython.core.display.HTML object>"
            ]
          },
          "metadata": {}
        },
        {
          "output_type": "display_data",
          "data": {
            "text/html": [
              ""
            ],
            "text/plain": [
              "<IPython.core.display.HTML object>"
            ]
          },
          "metadata": {}
        }
      ]
    }
  ]
}